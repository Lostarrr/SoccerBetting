{
 "cells": [
  {
   "cell_type": "code",
   "execution_count": 1,
   "id": "seventh-estate",
   "metadata": {},
   "outputs": [],
   "source": [
    "import requests\n",
    "from bs4 import BeautifulSoup\n",
    "import json\n",
    "import pandas as pd\n",
    "import os\n",
    "from pathlib import Path"
   ]
  },
  {
   "cell_type": "code",
   "execution_count": 2,
   "id": "accessory-beads",
   "metadata": {},
   "outputs": [],
   "source": [
    "from diskcache import Cache\n",
    "\n",
    "cache = Cache(\"matches.shelve\")\n",
    "\n",
    "@cache.memoize()\n",
    "def get_page(link):\n",
    "    print(link)\n",
    "    return requests.get(link).content"
   ]
  },
  {
   "cell_type": "code",
   "execution_count": 3,
   "id": "polish-claim",
   "metadata": {},
   "outputs": [
    {
     "data": {
      "text/plain": [
       "[('__main__.get_page', 'https://understat.com/league/EPL/2014'),\n",
       " ('__main__.get_page', 'https://understat.com/league/EPL/2015'),\n",
       " ('__main__.get_page', 'https://understat.com/league/EPL/2016'),\n",
       " ('__main__.get_page', 'https://understat.com/league/EPL/2017'),\n",
       " ('__main__.get_page', 'https://understat.com/league/EPL/2018'),\n",
       " ('__main__.get_page', 'https://understat.com/league/EPL/2019'),\n",
       " ('__main__.get_page', 'https://understat.com/league/EPL/2020'),\n",
       " ('__main__.get_page', 'https://understat.com/league/La_liga/2014'),\n",
       " ('__main__.get_page', 'https://understat.com/league/La_liga/2015'),\n",
       " ('__main__.get_page', 'https://understat.com/league/La_liga/2016'),\n",
       " ('__main__.get_page', 'https://understat.com/league/La_liga/2017'),\n",
       " ('__main__.get_page', 'https://understat.com/league/La_liga/2018'),\n",
       " ('__main__.get_page', 'https://understat.com/league/La_liga/2019'),\n",
       " ('__main__.get_page', 'https://understat.com/league/La_liga/2020'),\n",
       " ('__main__.get_page', 'https://understat.com/league/Ligue_1/2014'),\n",
       " ('__main__.get_page', 'https://understat.com/league/Ligue_1/2015'),\n",
       " ('__main__.get_page', 'https://understat.com/league/Ligue_1/2016'),\n",
       " ('__main__.get_page', 'https://understat.com/league/Ligue_1/2017'),\n",
       " ('__main__.get_page', 'https://understat.com/league/Ligue_1/2018'),\n",
       " ('__main__.get_page', 'https://understat.com/league/Ligue_1/2019'),\n",
       " ('__main__.get_page', 'https://understat.com/league/Ligue_1/2020'),\n",
       " ('__main__.get_page', 'https://understat.com/league/Serie_A/2014'),\n",
       " ('__main__.get_page', 'https://understat.com/league/Serie_A/2015'),\n",
       " ('__main__.get_page', 'https://understat.com/league/Serie_A/2016'),\n",
       " ('__main__.get_page', 'https://understat.com/league/Serie_A/2017'),\n",
       " ('__main__.get_page', 'https://understat.com/league/Serie_A/2018'),\n",
       " ('__main__.get_page', 'https://understat.com/league/Serie_A/2019'),\n",
       " ('__main__.get_page', 'https://understat.com/league/Serie_A/2020'),\n",
       " ('__main__.get_page', 'https://understat.com/league/Bundesliga/2014'),\n",
       " ('__main__.get_page', 'https://understat.com/league/Bundesliga/2015'),\n",
       " ('__main__.get_page', 'https://understat.com/league/Bundesliga/2016'),\n",
       " ('__main__.get_page', 'https://understat.com/league/Bundesliga/2017'),\n",
       " ('__main__.get_page', 'https://understat.com/league/Bundesliga/2018'),\n",
       " ('__main__.get_page', 'https://understat.com/league/Bundesliga/2019'),\n",
       " ('__main__.get_page', 'https://understat.com/league/Bundesliga/2020')]"
      ]
     },
     "execution_count": 3,
     "metadata": {},
     "output_type": "execute_result"
    }
   ],
   "source": [
    "list(cache.iterkeys())"
   ]
  },
  {
   "cell_type": "code",
   "execution_count": 4,
   "id": "narrative-differential",
   "metadata": {},
   "outputs": [],
   "source": [
    "import sys\n",
    "import collections\n",
    "\n",
    "def flatten(d, parent_key='', sep='_'):\n",
    "    items = []\n",
    "    for k, v in d.items():\n",
    "        new_key = parent_key + sep + k if parent_key else k\n",
    "        if isinstance(v, collections.MutableMapping):\n",
    "            items.extend(flatten(v, new_key, sep=sep).items())\n",
    "        else:\n",
    "            items.append((new_key, v))\n",
    "    return dict(items)"
   ]
  },
  {
   "cell_type": "code",
   "execution_count": 5,
   "id": "fourth-dallas",
   "metadata": {},
   "outputs": [],
   "source": [
    "leagues = ['EPL', 'La_liga', 'Bundesliga', 'Serie_A', 'Ligue_1']\n",
    "years = {\n",
    "    '2020-2021': '2020',\n",
    "    '2019-2020': '2019',\n",
    "    '2018-2019': '2018',\n",
    "    '2017-2018': '2017',\n",
    "    '2016-2017': '2016',\n",
    "    '2015-2016': '2015',\n",
    "    '2014-2015': '2014',\n",
    "}"
   ]
  },
  {
   "cell_type": "code",
   "execution_count": 6,
   "id": "electoral-cannon",
   "metadata": {},
   "outputs": [
    {
     "name": "stderr",
     "output_type": "stream",
     "text": [
      "/opt/anaconda3/envs/general/lib/python3.7/site-packages/ipykernel_launcher.py:8: DeprecationWarning: Using or importing the ABCs from 'collections' instead of from 'collections.abc' is deprecated since Python 3.3,and in 3.9 it will stop working\n",
      "  \n"
     ]
    }
   ],
   "source": [
    "dfs = []\n",
    "for league in leagues:\n",
    "    for season in years:\n",
    "        year = years[season]\n",
    "        url = f'https://understat.com/league/{league}/{year}'\n",
    "        \n",
    "        res = get_page(url)\n",
    "        soup = BeautifulSoup(res, 'lxml')\n",
    "        scripts = soup.find_all('script')\n",
    "        strings = scripts[1].string\n",
    "        \n",
    "        ind_start = strings.index(\"('\")+2 \n",
    "        ind_end = strings.index(\"')\") \n",
    "        json_data = strings[ind_start:ind_end] \n",
    "        json_data = json_data.encode('utf8').decode('unicode_escape')\n",
    "        \n",
    "        data = json.loads(json_data)\n",
    "        \n",
    "        data = [flatten(d) for d in data]\n",
    "        \n",
    "        df = pd.DataFrame(data)\n",
    "        df['season'] = season\n",
    "        df['league'] = league\n",
    "        df['datetime'] = pd.to_datetime(df['datetime'])\n",
    "        df = df.sort_values(by = 'datetime', ascending = False)\n",
    "        dfs.append(df)\n",
    "    \n",
    "df = pd.concat(dfs, ignore_index= True)\n",
    "\n",
    "path = Path(f'dfs')\n",
    "path.mkdir(parents=True, exist_ok=True)\n",
    "\n",
    "df.to_csv(os.path.join(path, 'matches.csv'), index = False)"
   ]
  },
  {
   "cell_type": "code",
   "execution_count": 7,
   "id": "ignored-relationship",
   "metadata": {},
   "outputs": [
    {
     "data": {
      "text/plain": [
       "array(['EPL', 'La_liga', 'Bundesliga', 'Serie_A', 'Ligue_1'], dtype=object)"
      ]
     },
     "execution_count": 7,
     "metadata": {},
     "output_type": "execute_result"
    }
   ],
   "source": [
    "df['league'].unique()"
   ]
  },
  {
   "cell_type": "code",
   "execution_count": 8,
   "id": "chief-object",
   "metadata": {},
   "outputs": [
    {
     "data": {
      "text/plain": [
       "12782"
      ]
     },
     "execution_count": 8,
     "metadata": {},
     "output_type": "execute_result"
    }
   ],
   "source": [
    "len(df)"
   ]
  },
  {
   "cell_type": "code",
   "execution_count": null,
   "id": "accurate-teacher",
   "metadata": {},
   "outputs": [],
   "source": []
  }
 ],
 "metadata": {
  "kernelspec": {
   "display_name": "Python 3",
   "language": "python",
   "name": "python3"
  },
  "language_info": {
   "codemirror_mode": {
    "name": "ipython",
    "version": 3
   },
   "file_extension": ".py",
   "mimetype": "text/x-python",
   "name": "python",
   "nbconvert_exporter": "python",
   "pygments_lexer": "ipython3",
   "version": "3.7.10"
  }
 },
 "nbformat": 4,
 "nbformat_minor": 5
}
