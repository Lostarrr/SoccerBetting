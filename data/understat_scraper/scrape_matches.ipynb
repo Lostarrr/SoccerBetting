{
 "cells": [
  {
   "cell_type": "code",
   "execution_count": 1,
   "id": "adapted-hawaii",
   "metadata": {},
   "outputs": [],
   "source": [
    "import requests\n",
    "from bs4 import BeautifulSoup\n",
    "import json\n",
    "import pandas as pd\n",
    "import os\n",
    "from pathlib import Path"
   ]
  },
  {
   "cell_type": "code",
   "execution_count": 2,
   "id": "peripheral-muscle",
   "metadata": {},
   "outputs": [],
   "source": [
    "from diskcache import Cache\n",
    "\n",
    "cache = Cache(\"matches.shelve\")\n",
    "\n",
    "@cache.memoize()\n",
    "def get_page(link):\n",
    "    print(link)\n",
    "    return requests.get(link).content"
   ]
  },
  {
   "cell_type": "code",
   "execution_count": 3,
   "id": "confidential-sphere",
   "metadata": {},
   "outputs": [
    {
     "data": {
      "text/plain": [
       "[('__main__.get_page', 'https://understat.com/league/EPL/2014'),\n",
       " ('__main__.get_page', 'https://understat.com/league/EPL/2015'),\n",
       " ('__main__.get_page', 'https://understat.com/league/EPL/2016'),\n",
       " ('__main__.get_page', 'https://understat.com/league/EPL/2017'),\n",
       " ('__main__.get_page', 'https://understat.com/league/EPL/2018'),\n",
       " ('__main__.get_page', 'https://understat.com/league/EPL/2019'),\n",
       " ('__main__.get_page', 'https://understat.com/league/EPL/2020'),\n",
       " ('__main__.get_page', 'https://understat.com/league/La_liga/2014'),\n",
       " ('__main__.get_page', 'https://understat.com/league/La_liga/2015'),\n",
       " ('__main__.get_page', 'https://understat.com/league/La_liga/2016'),\n",
       " ('__main__.get_page', 'https://understat.com/league/La_liga/2017'),\n",
       " ('__main__.get_page', 'https://understat.com/league/La_liga/2018'),\n",
       " ('__main__.get_page', 'https://understat.com/league/La_liga/2019'),\n",
       " ('__main__.get_page', 'https://understat.com/league/La_liga/2020'),\n",
       " ('__main__.get_page', 'https://understat.com/league/Ligue_1/2014'),\n",
       " ('__main__.get_page', 'https://understat.com/league/Ligue_1/2015'),\n",
       " ('__main__.get_page', 'https://understat.com/league/Ligue_1/2016'),\n",
       " ('__main__.get_page', 'https://understat.com/league/Ligue_1/2017'),\n",
       " ('__main__.get_page', 'https://understat.com/league/Ligue_1/2018'),\n",
       " ('__main__.get_page', 'https://understat.com/league/Ligue_1/2019'),\n",
       " ('__main__.get_page', 'https://understat.com/league/Ligue_1/2020'),\n",
       " ('__main__.get_page', 'https://understat.com/league/Serie_A/2014'),\n",
       " ('__main__.get_page', 'https://understat.com/league/Serie_A/2015'),\n",
       " ('__main__.get_page', 'https://understat.com/league/Serie_A/2016'),\n",
       " ('__main__.get_page', 'https://understat.com/league/Serie_A/2017'),\n",
       " ('__main__.get_page', 'https://understat.com/league/Serie_A/2018'),\n",
       " ('__main__.get_page', 'https://understat.com/league/Serie_A/2019'),\n",
       " ('__main__.get_page', 'https://understat.com/league/Serie_A/2020'),\n",
       " ('__main__.get_page', 'https://understat.com/league/Bundesliga/2014'),\n",
       " ('__main__.get_page', 'https://understat.com/league/Bundesliga/2015'),\n",
       " ('__main__.get_page', 'https://understat.com/league/Bundesliga/2016'),\n",
       " ('__main__.get_page', 'https://understat.com/league/Bundesliga/2017'),\n",
       " ('__main__.get_page', 'https://understat.com/league/Bundesliga/2018'),\n",
       " ('__main__.get_page', 'https://understat.com/league/Bundesliga/2019'),\n",
       " ('__main__.get_page', 'https://understat.com/league/Bundesliga/2020')]"
      ]
     },
     "execution_count": 3,
     "metadata": {},
     "output_type": "execute_result"
    }
   ],
   "source": [
    "list(cache.iterkeys())"
   ]
  },
  {
   "cell_type": "code",
   "execution_count": 4,
   "id": "analyzed-balloon",
   "metadata": {},
   "outputs": [],
   "source": [
    "import sys\n",
    "import collections\n",
    "\n",
    "def flatten(d, parent_key='', sep='_'):\n",
    "    items = []\n",
    "    for k, v in d.items():\n",
    "        new_key = parent_key + sep + k if parent_key else k\n",
    "        if isinstance(v, collections.MutableMapping):\n",
    "            items.extend(flatten(v, new_key, sep=sep).items())\n",
    "        else:\n",
    "            items.append((new_key, v))\n",
    "    return dict(items)"
   ]
  },
  {
   "cell_type": "code",
   "execution_count": 5,
   "id": "animal-mexico",
   "metadata": {},
   "outputs": [],
   "source": [
    "leagues = ['EPL', 'La_liga', 'Bundesliga', 'Serie_A', 'Ligue_1']\n",
    "years = {\n",
    "    '2020-2021': '2020',\n",
    "    '2019-2020': '2019',\n",
    "    '2018-2019': '2018',\n",
    "    '2017-2018': '2017',\n",
    "    '2016-2017': '2016',\n",
    "    '2015-2016': '2015',\n",
    "    '2014-2015': '2014',\n",
    "}"
   ]
  },
  {
   "cell_type": "code",
   "execution_count": 6,
   "id": "discrete-header",
   "metadata": {},
   "outputs": [
    {
     "name": "stderr",
     "output_type": "stream",
     "text": [
      "/opt/anaconda3/envs/general/lib/python3.7/site-packages/ipykernel_launcher.py:8: DeprecationWarning: Using or importing the ABCs from 'collections' instead of from 'collections.abc' is deprecated since Python 3.3,and in 3.9 it will stop working\n",
      "  \n"
     ]
    }
   ],
   "source": [
    "dfs = []\n",
    "for league in leagues:\n",
    "    for season in years:\n",
    "        year = years[season]\n",
    "        url = f'https://understat.com/league/{league}/{year}'\n",
    "        \n",
    "        res = get_page(url)\n",
    "        soup = BeautifulSoup(res, 'lxml')\n",
    "        scripts = soup.find_all('script')\n",
    "        strings = scripts[1].string\n",
    "        \n",
    "        ind_start = strings.index(\"('\")+2 \n",
    "        ind_end = strings.index(\"')\") \n",
    "        json_data = strings[ind_start:ind_end] \n",
    "        json_data = json_data.encode('utf8').decode('unicode_escape')\n",
    "        \n",
    "        data = json.loads(json_data)\n",
    "        \n",
    "        data = [flatten(d) for d in data]\n",
    "        \n",
    "        df = pd.DataFrame(data)\n",
    "        df['season'] = season\n",
    "        df['league'] = league\n",
    "        df['datetime'] = pd.to_datetime(df['datetime'])\n",
    "        df = df.sort_values(by = 'datetime', ascending = False)\n",
    "        dfs.append(df)\n",
    "    \n",
    "df = pd.concat(dfs, ignore_index= True)\n",
    "\n",
    "path = Path(f'dfs')\n",
    "path.mkdir(parents=True, exist_ok=True)\n"
   ]
  },
  {
   "cell_type": "code",
   "execution_count": 7,
   "id": "unlike-county",
   "metadata": {},
   "outputs": [
    {
     "data": {
      "text/html": [
       "<div>\n",
       "<style scoped>\n",
       "    .dataframe tbody tr th:only-of-type {\n",
       "        vertical-align: middle;\n",
       "    }\n",
       "\n",
       "    .dataframe tbody tr th {\n",
       "        vertical-align: top;\n",
       "    }\n",
       "\n",
       "    .dataframe thead th {\n",
       "        text-align: right;\n",
       "    }\n",
       "</style>\n",
       "<table border=\"1\" class=\"dataframe\">\n",
       "  <thead>\n",
       "    <tr style=\"text-align: right;\">\n",
       "      <th></th>\n",
       "      <th>id</th>\n",
       "      <th>isResult</th>\n",
       "      <th>h_id</th>\n",
       "      <th>h_title</th>\n",
       "      <th>h_short_title</th>\n",
       "      <th>a_id</th>\n",
       "      <th>a_title</th>\n",
       "      <th>a_short_title</th>\n",
       "      <th>goals_h</th>\n",
       "      <th>goals_a</th>\n",
       "      <th>xG_h</th>\n",
       "      <th>xG_a</th>\n",
       "      <th>datetime</th>\n",
       "      <th>forecast_w</th>\n",
       "      <th>forecast_d</th>\n",
       "      <th>forecast_l</th>\n",
       "      <th>season</th>\n",
       "      <th>league</th>\n",
       "    </tr>\n",
       "  </thead>\n",
       "  <tbody>\n",
       "    <tr>\n",
       "      <th>1479</th>\n",
       "      <td>7159</td>\n",
       "      <td>True</td>\n",
       "      <td>73</td>\n",
       "      <td>Bournemouth</td>\n",
       "      <td>BOU</td>\n",
       "      <td>220</td>\n",
       "      <td>Brighton</td>\n",
       "      <td>BRI</td>\n",
       "      <td>2</td>\n",
       "      <td>1</td>\n",
       "      <td>1.39529</td>\n",
       "      <td>0.874276</td>\n",
       "      <td>2017-09-15</td>\n",
       "      <td>0.4979</td>\n",
       "      <td>0.3047</td>\n",
       "      <td>0.1974</td>\n",
       "      <td>2017-2018</td>\n",
       "      <td>EPL</td>\n",
       "    </tr>\n",
       "    <tr>\n",
       "      <th>6516</th>\n",
       "      <td>8286</td>\n",
       "      <td>True</td>\n",
       "      <td>128</td>\n",
       "      <td>Hannover 96</td>\n",
       "      <td>HAN</td>\n",
       "      <td>118</td>\n",
       "      <td>Hamburger SV</td>\n",
       "      <td>HAM</td>\n",
       "      <td>2</td>\n",
       "      <td>0</td>\n",
       "      <td>2.2982</td>\n",
       "      <td>0.453334</td>\n",
       "      <td>2017-09-15</td>\n",
       "      <td>0.8903</td>\n",
       "      <td>0.0894</td>\n",
       "      <td>0.0203</td>\n",
       "      <td>2017-2018</td>\n",
       "      <td>Bundesliga</td>\n",
       "    </tr>\n",
       "    <tr>\n",
       "      <th>11591</th>\n",
       "      <td>8615</td>\n",
       "      <td>True</td>\n",
       "      <td>174</td>\n",
       "      <td>Toulouse</td>\n",
       "      <td>TOU</td>\n",
       "      <td>176</td>\n",
       "      <td>Bordeaux</td>\n",
       "      <td>BOR</td>\n",
       "      <td>0</td>\n",
       "      <td>1</td>\n",
       "      <td>0.909141</td>\n",
       "      <td>0.733308</td>\n",
       "      <td>2017-09-15</td>\n",
       "      <td>0.373</td>\n",
       "      <td>0.3569</td>\n",
       "      <td>0.2701</td>\n",
       "      <td>2017-2018</td>\n",
       "      <td>Ligue_1</td>\n",
       "    </tr>\n",
       "  </tbody>\n",
       "</table>\n",
       "</div>"
      ],
      "text/plain": [
       "         id  isResult h_id      h_title h_short_title a_id       a_title  \\\n",
       "1479   7159      True   73  Bournemouth           BOU  220      Brighton   \n",
       "6516   8286      True  128  Hannover 96           HAN  118  Hamburger SV   \n",
       "11591  8615      True  174     Toulouse           TOU  176      Bordeaux   \n",
       "\n",
       "      a_short_title goals_h goals_a      xG_h      xG_a    datetime  \\\n",
       "1479            BRI       2       1   1.39529  0.874276  2017-09-15   \n",
       "6516            HAM       2       0    2.2982  0.453334  2017-09-15   \n",
       "11591           BOR       0       1  0.909141  0.733308  2017-09-15   \n",
       "\n",
       "      forecast_w forecast_d forecast_l     season      league  \n",
       "1479      0.4979     0.3047     0.1974  2017-2018         EPL  \n",
       "6516      0.8903     0.0894     0.0203  2017-2018  Bundesliga  \n",
       "11591      0.373     0.3569     0.2701  2017-2018     Ligue_1  "
      ]
     },
     "execution_count": 7,
     "metadata": {},
     "output_type": "execute_result"
    }
   ],
   "source": [
    "df['datetime'] = pd.to_datetime(df['datetime']).dt.date\n",
    "df[df['datetime'] == pd.Timestamp(2017, 9, 15)]"
   ]
  },
  {
   "cell_type": "code",
   "execution_count": null,
   "id": "impressed-antarctica",
   "metadata": {},
   "outputs": [],
   "source": [
    "df.to_csv(os.path.join(path, 'matches.csv'), index = False)"
   ]
  },
  {
   "cell_type": "code",
   "execution_count": 7,
   "id": "short-grill",
   "metadata": {},
   "outputs": [
    {
     "data": {
      "text/plain": [
       "array(['EPL', 'La_liga', 'Bundesliga', 'Serie_A', 'Ligue_1'], dtype=object)"
      ]
     },
     "execution_count": 7,
     "metadata": {},
     "output_type": "execute_result"
    }
   ],
   "source": [
    "df['league'].unique()"
   ]
  },
  {
   "cell_type": "code",
   "execution_count": 8,
   "id": "outside-andrew",
   "metadata": {},
   "outputs": [
    {
     "data": {
      "text/plain": [
       "12782"
      ]
     },
     "execution_count": 8,
     "metadata": {},
     "output_type": "execute_result"
    }
   ],
   "source": [
    "len(df)"
   ]
  },
  {
   "cell_type": "code",
   "execution_count": null,
   "id": "atmospheric-illinois",
   "metadata": {},
   "outputs": [],
   "source": []
  }
 ],
 "metadata": {
  "kernelspec": {
   "display_name": "Python 3",
   "language": "python",
   "name": "python3"
  },
  "language_info": {
   "codemirror_mode": {
    "name": "ipython",
    "version": 3
   },
   "file_extension": ".py",
   "mimetype": "text/x-python",
   "name": "python",
   "nbconvert_exporter": "python",
   "pygments_lexer": "ipython3",
   "version": "3.7.10"
  }
 },
 "nbformat": 4,
 "nbformat_minor": 5
}
