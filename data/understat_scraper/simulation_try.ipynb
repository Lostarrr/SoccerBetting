{
 "cells": [
  {
   "cell_type": "code",
   "execution_count": 1,
   "id": "residential-flexibility",
   "metadata": {},
   "outputs": [
    {
     "name": "stderr",
     "output_type": "stream",
     "text": [
      "4782969it [00:03, 1325269.85it/s]\n"
     ]
    }
   ],
   "source": [
    "from itertools import product\n",
    "from tqdm import tqdm\n",
    "import pickle\n",
    "\n",
    "possible_values = [(3, 0), (0, 3), (1, 1)]\n",
    "number_of_coins = 14\n",
    "\n",
    "results = []\n",
    "for result in tqdm(product(possible_values, repeat=number_of_coins)):\n",
    "    results.append(result)\n",
    "    \n",
    "# with open('possible_outcomes.pkl', 'wb') as f:\n",
    "#     pickle.dump(results, f)"
   ]
  },
  {
   "cell_type": "code",
   "execution_count": 2,
   "id": "opponent-carbon",
   "metadata": {},
   "outputs": [
    {
     "data": {
      "text/plain": [
       "([(12, 17),\n",
       "  (10, 2),\n",
       "  (11, 19),\n",
       "  (3, 13),\n",
       "  (14, 3),\n",
       "  (13, 1),\n",
       "  (16, 10),\n",
       "  (4, 18),\n",
       "  (8, 11),\n",
       "  (15, 9),\n",
       "  (2, 6),\n",
       "  (7, 20),\n",
       "  (19, 12),\n",
       "  (17, 5)],\n",
       " {1: 56,\n",
       "  2: 46,\n",
       "  3: 46,\n",
       "  4: 42,\n",
       "  5: 42,\n",
       "  6: 40,\n",
       "  7: 37,\n",
       "  8: 36,\n",
       "  9: 36,\n",
       "  10: 34,\n",
       "  11: 32,\n",
       "  12: 30,\n",
       "  13: 29,\n",
       "  14: 29,\n",
       "  15: 27,\n",
       "  16: 26,\n",
       "  17: 25,\n",
       "  18: 19,\n",
       "  19: 13,\n",
       "  20: 11})"
      ]
     },
     "execution_count": 2,
     "metadata": {},
     "output_type": "execute_result"
    }
   ],
   "source": [
    "import itertools\n",
    "import random\n",
    "\n",
    "# combs = list(itertools.permutations(list(range(1, 21)), 2))\n",
    "# random.shuffle(combs)\n",
    "combs = [\n",
    "    (12, 17),\n",
    "    (10, 2),\n",
    "    (11, 19),\n",
    "    (3, 13),\n",
    "    (14, 3),\n",
    "    (13, 1),\n",
    "    (16, 10),\n",
    "    (4, 18),\n",
    "    (8, 11),\n",
    "    (15, 9),\n",
    "    (2, 6),\n",
    "    (7, 20),\n",
    "    (19, 12), \n",
    "    (17, 5),\n",
    "]\n",
    "\n",
    "initial_points = {}\n",
    "# for i in range(1, 21):\n",
    "#     initial_points[i] = random.choice(list(range(23)))\n",
    "initial_points[1] = 56\n",
    "initial_points[2] = 46\n",
    "initial_points[3] = 46\n",
    "initial_points[4] = 42\n",
    "initial_points[5] = 42\n",
    "initial_points[6] = 40\n",
    "initial_points[7] = 37\n",
    "initial_points[8] = 36\n",
    "initial_points[9] = 36\n",
    "initial_points[10] = 34\n",
    "initial_points[11] = 32\n",
    "initial_points[12] = 30\n",
    "initial_points[13] = 29\n",
    "initial_points[14] = 29\n",
    "initial_points[15] = 27\n",
    "initial_points[16] = 26\n",
    "initial_points[17] = 25\n",
    "initial_points[18] = 19\n",
    "initial_points[19] = 13\n",
    "initial_points[20] = 11\n",
    "\n",
    "combs[:14], initial_points"
   ]
  },
  {
   "cell_type": "code",
   "execution_count": 3,
   "id": "rational-groove",
   "metadata": {},
   "outputs": [
    {
     "name": "stderr",
     "output_type": "stream",
     "text": [
      "100%|██████████| 4782969/4782969 [03:15<00:00, 24449.69it/s]\n"
     ]
    }
   ],
   "source": [
    "positions = {}\n",
    "for res in tqdm(results):\n",
    "    temp_points = initial_points.copy()\n",
    "    for team, add_points in zip(combs[:14], res):\n",
    "        temp_points[team[0]] += int(add_points[0])\n",
    "        temp_points[team[1]] += int(add_points[1])\n",
    "        \n",
    "    temp_points = dict(sorted(temp_points.items(), key=lambda item: item[1], reverse=True))\n",
    "\n",
    "    for i in range(1, 21):\n",
    "        if i not in positions:\n",
    "            positions[i] = []\n",
    "        positions[i].append(list(temp_points.keys()).index(i) + 1)"
   ]
  },
  {
   "cell_type": "code",
   "execution_count": 4,
   "id": "overall-cleaner",
   "metadata": {},
   "outputs": [],
   "source": [
    "import numpy as np\n",
    "\n",
    "for team in positions:\n",
    "    mean = np.array(positions[team]).mean()\n",
    "    std = np.array(positions[team]).std()\n",
    "    max_ = np.array(positions[team]).max()\n",
    "    min_ = np.array(positions[team]).min()\n",
    "    positions[team] = (mean, std, max_, min_)"
   ]
  },
  {
   "cell_type": "code",
   "execution_count": 5,
   "id": "distinguished-friendly",
   "metadata": {},
   "outputs": [
    {
     "data": {
      "text/plain": [
       "{1: (1.0, 0.0, 1, 1),\n",
       " 2: (2.4074074074074074, 0.4913518207933928, 3, 2),\n",
       " 3: (2.5925925925925926, 0.4913518207933928, 3, 2),\n",
       " 4: (4.444444444444445, 0.6285393610547081, 6, 4),\n",
       " 5: (4.777777777777778, 0.6285393610547098, 6, 4),\n",
       " 6: (5.777777777777778, 0.4969039949999529, 6, 4),\n",
       " 7: (7.62962962962963, 0.7926272058900995, 10, 7),\n",
       " 8: (8.555555555555555, 1.1111111111111127, 11, 7),\n",
       " 9: (8.851851851851851, 1.0277360685564143, 11, 7),\n",
       " 10: (9.407407407407407, 1.2765694770084504, 13, 7),\n",
       " 11: (10.851851851851851, 1.1148086624661038, 13, 7),\n",
       " 12: (12.222222222222221, 0.9087291960285399, 15, 10),\n",
       " 13: (12.88888888888889, 0.9177416069158417, 16, 10),\n",
       " 14: (13.88888888888889, 0.7644358311314927, 16, 12),\n",
       " 17: (16.074074074074073, 1.141558148697959, 17, 12),\n",
       " 15: (15.407407407407407, 0.8526566246830619, 17, 13),\n",
       " 16: (16.22222222222222, 0.7535922203472525, 17, 15),\n",
       " 18: (18.0, 0.0, 18, 18),\n",
       " 19: (19.037037037037038, 0.1888525745775099, 20, 19),\n",
       " 20: (19.962962962962962, 0.1888525745775099, 20, 19)}"
      ]
     },
     "execution_count": 5,
     "metadata": {},
     "output_type": "execute_result"
    }
   ],
   "source": [
    "dict(sorted(positions.items(), key=lambda item: item[1][3], reverse=False))"
   ]
  },
  {
   "cell_type": "code",
   "execution_count": 6,
   "id": "crude-atlas",
   "metadata": {},
   "outputs": [
    {
     "data": {
      "text/plain": [
       "{1: 56,\n",
       " 2: 46,\n",
       " 3: 46,\n",
       " 4: 42,\n",
       " 5: 42,\n",
       " 6: 40,\n",
       " 7: 37,\n",
       " 8: 36,\n",
       " 9: 36,\n",
       " 10: 34,\n",
       " 11: 32,\n",
       " 12: 30,\n",
       " 13: 29,\n",
       " 14: 29,\n",
       " 15: 27,\n",
       " 16: 26,\n",
       " 17: 25,\n",
       " 18: 19,\n",
       " 19: 13,\n",
       " 20: 11}"
      ]
     },
     "execution_count": 6,
     "metadata": {},
     "output_type": "execute_result"
    }
   ],
   "source": [
    "dict(sorted(initial_points.items(), key=lambda item: item[1], reverse=True))"
   ]
  },
  {
   "cell_type": "code",
   "execution_count": null,
   "id": "intermediate-latest",
   "metadata": {},
   "outputs": [],
   "source": []
  }
 ],
 "metadata": {
  "kernelspec": {
   "display_name": "Python 3",
   "language": "python",
   "name": "python3"
  },
  "language_info": {
   "codemirror_mode": {
    "name": "ipython",
    "version": 3
   },
   "file_extension": ".py",
   "mimetype": "text/x-python",
   "name": "python",
   "nbconvert_exporter": "python",
   "pygments_lexer": "ipython3",
   "version": "3.7.10"
  }
 },
 "nbformat": 4,
 "nbformat_minor": 5
}
